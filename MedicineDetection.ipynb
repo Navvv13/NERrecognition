{
  "cells": [
    {
      "cell_type": "code",
      "execution_count": null,
      "metadata": {
        "colab": {
          "base_uri": "https://localhost:8080/"
        },
        "id": "aedgGM36FD8O",
        "outputId": "4c95314c-e7fe-4cef-c529-fb9dedd40eaf"
      },
      "outputs": [
        {
          "name": "stdout",
          "output_type": "stream",
          "text": [
            "\u001b[38;5;2m✔ Download and installation successful\u001b[0m\n",
            "You can now load the package via spacy.load('en_core_web_lg')\n"
          ]
        }
      ],
      "source": [
        "import spacy.cli\n",
        "\n",
        "spacy.cli.download(\"en_core_web_lg\")"
      ]
    },
    {
      "cell_type": "code",
      "execution_count": null,
      "metadata": {
        "colab": {
          "base_uri": "https://localhost:8080/"
        },
        "id": "8S-zeSoj8S4f",
        "outputId": "c22215ba-c178-40b9-f5eb-7067f74e12d8"
      },
      "outputs": [
        {
          "name": "stdout",
          "output_type": "stream",
          "text": [
            "Drive already mounted at /content/drive; to attempt to forcibly remount, call drive.mount(\"/content/drive\", force_remount=True).\n"
          ]
        }
      ],
      "source": [
        "from google.colab import drive\n",
        "drive.mount('/content/drive')"
      ]
    },
    {
      "cell_type": "code",
      "execution_count": null,
      "metadata": {
        "id": "rHMzV4YemeHF"
      },
      "outputs": [],
      "source": [
        "import sys\n",
        "sys.path.insert(0,'./drive/MyDrive/MedicineDetection/data')"
      ]
    },
    {
      "cell_type": "code",
      "execution_count": null,
      "metadata": {
        "id": "EXeJHPEr8U1C"
      },
      "outputs": [],
      "source": [
        "import pandas as pd\n",
        "import os\n",
        "from tqdm import tqdm\n",
        "from spacy.tokens import DocBin\n",
        "import spacy\n",
        "import sys\n",
        "import data3 as dt\n",
        "from spacy.scorer import Scorer\n",
        "from spacy.tokens import Doc\n",
        "from spacy.training.example import Example"
      ]
    },
    {
      "cell_type": "code",
      "execution_count": null,
      "metadata": {
        "id": "IISUS20P8gPT"
      },
      "outputs": [],
      "source": [
        "nlp = spacy.load(\"en_core_web_sm\")\n"
      ]
    },
    {
      "cell_type": "code",
      "execution_count": null,
      "metadata": {
        "id": "0bUbYJ5q9Qri"
      },
      "outputs": [],
      "source": [
        "BASE_DIR = \"./drive/MyDrive/MedicineDetection/\""
      ]
    },
    {
      "cell_type": "code",
      "execution_count": null,
      "metadata": {
        "colab": {
          "base_uri": "https://localhost:8080/"
        },
        "id": "u-wunOtD8krH",
        "outputId": "ff5b8ab4-0fde-46ab-d008-d53f866596fd"
      },
      "outputs": [
        {
          "name": "stdout",
          "output_type": "stream",
          "text": [
            "[('I took 30 ml of A Class syrup as prescribed by my doctor to relieve my cough and congestion.', {'entities': [(7, 12, 'quantity'), (16, 29, 'medicine')]}), ('I mixed 30 ml of A Class syrup with a glass of water and drank it before bed to help me sleep.', {'entities': [(8, 13, 'quantity'), (17, 30, 'medicine')]}), ('The pharmacist recommended that I take 30 ml of A Clas syrup three times a day to treat my cold symptoms.', {'entities': [(39, 44, 'quantity'), (47, 60, 'medicine')]}), ('I added 30 ml of A Clas syrup to a bottle of water and shook it up to create a refreshing and medicinal drink.', {'entities': [(8, 13, 'quantity'), (17, 29, 'medicine')]}), (\"I measured out 30 ml of A Clas syrup and mixed it with some juice to make it more palatable for my child's medicine.\", {'entities': [(15, 20, 'quantity'), (24, 37, 'medicine')]}), ('The doctor prescribed an A Artivid 150mg injection to help control my chronic pain.', {'entities': [(35, 40, 'quantity'), (25, 34, 'medicine')]}), ('I had to go to the hospital to get an A Artivid 150mg injection because it is not available in oral form.', {'entities': [(48, 53, 'quantity'), (38, 47, 'medicine')]}), ('The A Artivid 150mg injection worked quickly to provide relief from my acute pain.', {'entities': [(14, 19, 'quantity'), (4, 13, 'medicine')]}), ('I received an A Artivid 150mg injection to help reduce inflammation and swelling in my joints.', {'entities': [(24, 30, 'quantity'), (13, 23, 'medicine')]}), ('The doctor prescribed 0.5 mg of A Cort tablets to help reduce inflammation and swelling in my sinuses.', {'entities': [(22, 28, 'quantity'), (32, 38, 'medicine')]}), ('I have to be careful not to exceed the recommended dosage of 0.5 mg for the A Cort tablets.', {'entities': [(61, 67, 'quantity'), (76, 82, 'medicine')]}), ('I take 0.5 mg of A Cort tablets before bed to help me breathe easier at night.', {'entities': [(7, 14, 'quantity'), (17, 24, 'medicine')]}), ('I find that 0.5 mg of A Cort tablets is the perfect amount to control my allergy symptoms without causing drowsiness.', {'entities': [(12, 18, 'quantity'), (22, 28, 'medicine')]}), (\"The 200 mg of A C Ford Kid tablets have helped to significantly improve my child's respiratory function.\", {'entities': [(4, 10, 'quantity'), (14, 26, 'medicine')]}), ('I make sure to give my child their 200 mg of A C Ford Kid tablets at the same time every day to help maintain a consistent level of the medication in their system.', {'entities': [(35, 41, 'quantity'), (45, 57, 'medicine')]}), ('My child takes 200 mg of A C Ford Kid tablets to help with their asthma symptoms.', {'entities': [(15, 21, 'quantity'), (25, 38, 'medicine')]}), ('I appreciate that the A C Ford Kid tablets come in a convenient 200 mg dosage that is easy for my child to swallow.', {'entities': [(64, 70, 'quantity'), (22, 34, 'medicine')]}), ('The Lefox 200mg tablet is available in a convenient and easy-to-swallow tablet form.', {'entities': [(10, 16, 'quantity'), (4, 9, 'medicine')]}), ('It is important for me to follow the instructions of my healthcare provider when taking the Lefox 200mg tablet in order to achieve the best results.', {'entities': [(98, 103, 'quantity'), (92, 97, 'medicine')]}), ('I have found the Lefox 200mg tablet to be an effective treatment for my condition and have experienced no significant side effects.', {'entities': [(23, 28, 'quantity'), (17, 22, 'medicine')]}), ('I have been prescribed the Lefox 200mg tablet to manage my medical condition.', {'entities': [(33, 38, 'quantity'), (27, 32, 'medicine')]}), ('Fenexia 120 mg is a brand name for the medication venlafaxine.', {'entities': [(8, 14, 'quantity'), (0, 8, 'medicine')]}), ('Fenexia 120 mg is a type of antidepressant medication that belongs to a class of drugs known as selective serotonin and norepinephrine reuptake inhibitors (SNRIs). It is used to treat depression and anxiety disorders.', {'entities': [(8, 14, 'quantity'), (0, 7, 'medicine')]}), (\"Fenexia tablets are available in various strengths, including 120 mg. It is important to follow your healthcare provider's instructions for taking this medication and to not exceed the recommended dose.\", {'entities': [(62, 68, 'quantity'), (0, 7, 'medicine')]}), ('Dol Proxyvon 75mg Tablet is a prescription medicine that belongs to a class of drugs called opioids. It is used to treat moderate to severe pain.', {'entities': [(13, 17, 'quantity'), (0, 12, 'medicine')]}), ('Dol Proxyvon 75mg Tablet should be taken as directed by your doctor. It is usually taken by mouth, with or without food.', {'entities': [(13, 17, 'quantity'), (0, 12, 'medicine')]}), ('Do not increase the dose of Dol Proxyvon 75mg Tablet without consulting your doctor, as taking too much of the medicine can lead to serious side effects or overdose.', {'entities': [(40, 46, 'quantity'), (28, 40, 'medicine')]}), ('If you miss a dose of Dol Proxyvon 75mg Tablet, take it as soon as you remember.', {'entities': [(34, 40, 'quantity'), (22, 34, 'medicine')]}), ('Dezacor 18mg Tablet is a prescription medicine that belongs to a class of drugs called benzodiazepines. It is used to treat anxiety and panic disorders.', {'entities': [(8, 13, 'quantity'), (0, 7, 'medicine')]}), ('Common side effects of Dezacor 18mg Tablet include drowsiness, dizziness, weakness, and unsteadiness. ', {'entities': [(31, 35, 'quantity'), (23, 30, 'medicine')]}), ('Serious side effects of Dezacor 18mg Tablet may include difficulty breathing, chest pain, and allergic reactions.', {'entities': [(32, 37, 'quantity'), (24, 32, 'medicine')]}), ('It is important to inform your doctor about all the medications you are taking, including over-the-counter drugs, vitamins, and supplements, as Dezacor 18mg Tablet may interact with certain medications and cause serious side effects.', {'entities': [(152, 156, 'quantity'), (144, 152, 'medicine')]}), ('Dezacort 6mg Tablet is a prescription medicine that belongs to a class of drugs called corticosteroids.', {'entities': [(8, 13, 'quantity'), (0, 8, 'medicine')]}), ('Common side effects of Dezacort 6mg Tablet include stomach upset, increased appetite, and weight gain.', {'entities': [(32, 35, 'quantity'), (22, 31, 'medicine')]}), ('It is important to keep Dezacort 6mg Tablet out of the reach of children and pets, as it can be dangerous if taken by someone other than the person it was prescribed for.', {'entities': [(33, 36, 'quantity'), (24, 32, 'medicine')]}), ('The dosage and frequency of Dezacort 6mg Tablet will depend on your age, weight, and the severity of your condition. ', {'entities': [(37, 40, 'quantity'), (28, 36, 'medicine')]}), ('DEBRIT 250mg Tablet is a prescription medicine that belongs to a class of drugs called nonsteroidal anti-inflammatory drugs ', {'entities': [(7, 13, 'quantity'), (0, 6, 'medicine')]}), ('It is important to inform your doctor about all the medications you are taking, including over-the-counter drugs, vitamins, and supplements, as DEBRIT 250mg Tablet may interact with certain medications and cause serious side effects.', {'entities': [(151, 156, 'quantity'), (144, 151, 'medicine')]}), (' You should not take DEBRIT 250mg Tablet more frequently or in larger amounts than your doctor has prescribed.', {'entities': [(28, 33, 'quantity'), (21, 27, 'medicine')]}), ('Cedoxil 500mg Tablet is a prescription medicine that belongs to a class of drugs called cephalosporin antibiotics.', {'entities': [(8, 13, 'quantity'), (0, 7, 'medicine')]}), ('It is important to take Cedoxil 500mg Tablet exactly as prescribed by your doctor and to complete the full course of treatment, even if your symptoms improve. ', {'entities': [(32, 37, 'quantity'), (24, 31, 'medicine')]}), ('The dosage and frequency of Cedoxil 500mg Tablet will depend on your age, weight, and the severity of your infection.', {'entities': [(36, 42, 'quantity'), (28, 35, 'medicine')]}), ('Cedoxil 500mg Tablet should be taken as directed by your doctor. It is usually taken by mouth, with or without food.', {'entities': [(8, 13, 'quantity'), (0, 8, 'medicine')]}), ('Gabaniche 75mg Capsule is a prescription medicine that belongs to a class of drugs called antiepileptic drugs.', {'entities': [(10, 14, 'quantity'), (0, 10, 'medicine')]}), ('Gabaniche 75mg Capsule works by decreasing the abnormal electrical activity in the brain that leads to seizures.', {'entities': [(10, 14, 'quantity'), (0, 9, 'medicine')]}), ('Common side effects of Gabaniche 75mg Capsule include dizziness, drowsiness, and tremors. ', {'entities': [(33, 37, 'quantity')]}), ('Serious side effects of Gabaniche 75mg Capsule may include difficulty breathing, chest pain, and allergic reactions.', {'entities': [(34, 38, 'quantity'), (24, 33, 'medicine')]}), ('A 500 ml glucose medical bottle contains a solution of glucose, a type of sugar that is used to provide energy to the body.', {'entities': [(2, 8, 'quantity'), (9, 16, 'medicine')]}), ('Glucose solutions are commonly used in the treatment of dehydration, low blood sugar, and other conditions that cause the body to need additional energy.', {'entities': [(0, 18, 'medicine')]}), (\"The dosage and frequency of glucose solutions will depend on the specific condition being treated and the individual patient's needs.\", {'entities': [(28, 45, 'medicine')]}), (\"Glucose solutions may be administered orally or intravenously, depending on the severity of the condition and the patient's ability to take fluids by mouth.\", {'entities': [(0, 17, 'medicine')]}), ('Gamma I.V. 500mg Injection is a prescription medicine that belongs to a class of drugs called immunoglobulins. ', {'entities': [(11, 16, 'quantity'), (0, 10, 'medicine')]}), ('Gamma I.V. 500mg Injection is given intravenously, or through a vein, by a healthcare provider in a medical setting.', {'entities': [(11, 16, 'quantity'), (0, 10, 'medicine')]}), (\"The dosage and frequency of Gamma I.V. Injection 500mg will depend on the specific condition being treated and the individual patient's needs. It is important to follow the instructions of your healthcare provider when using this medication.\", {'entities': [(49, 54, 'quantity'), (28, 48, 'medicine')]})]\n"
          ]
        }
      ],
      "source": [
        "trainData = dt.train\n",
        "print(trainData)"
      ]
    },
    {
      "cell_type": "code",
      "execution_count": null,
      "metadata": {
        "colab": {
          "base_uri": "https://localhost:8080/"
        },
        "id": "RjODOCNu9Ifv",
        "outputId": "fad109a7-dfaf-48e2-b918-37330a98997b"
      },
      "outputs": [
        {
          "name": "stderr",
          "output_type": "stream",
          "text": [
            "100%|██████████| 54/54 [00:00<00:00, 977.50it/s]\n"
          ]
        }
      ],
      "source": [
        "db = DocBin()\n",
        "\n",
        "\n",
        "for text, annot in tqdm(trainData):\n",
        "    doc = nlp.make_doc(text)\n",
        "    ents = []\n",
        "    for start, end, label in annot[\"entities\"]:\n",
        "        span = doc.char_span(start, end, label=label, alignment_mode=\"contract\")\n",
        "        if span is None:\n",
        "            print(\"Skipping entity\")\n",
        "        else:\n",
        "            ents.append(span)\n",
        "    doc.ents = ents\n",
        "    db.add(doc)\n",
        "\n",
        "db.to_disk(os.path.join(BASE_DIR,\"./train.spacy\"))"
      ]
    },
    {
      "cell_type": "code",
      "execution_count": null,
      "metadata": {
        "colab": {
          "base_uri": "https://localhost:8080/"
        },
        "id": "IC0bspKF9yX4",
        "outputId": "495b5722-d9bd-4ff8-fb0b-134026c85a26"
      },
      "outputs": [
        {
          "name": "stdout",
          "output_type": "stream",
          "text": [
            "/usr/local/lib/python3.8/dist-packages/torch/cuda/__init__.py:497: UserWarning: Can't initialize NVML\n",
            "  warnings.warn(\"Can't initialize NVML\")\n",
            "2022-12-30 20:24:19.167263: E tensorflow/stream_executor/cuda/cuda_driver.cc:271] failed call to cuInit: CUDA_ERROR_NO_DEVICE: no CUDA-capable device is detected\n",
            "\u001b[38;5;2m✔ Auto-filled config with all values\u001b[0m\n",
            "\u001b[38;5;2m✔ Saved config\u001b[0m\n",
            "drive/MyDrive/MedicineDetection/config/config.cfg\n",
            "You can now add your data and train your pipeline:\n",
            "python -m spacy train config.cfg --paths.train ./train.spacy --paths.dev ./dev.spacy\n"
          ]
        }
      ],
      "source": [
        "!python -m spacy init fill-config ./drive/MyDrive/MedicineDetection/config/base_config.cfg ./drive/MyDrive/MedicineDetection/config/config.cfg"
      ]
    },
    {
      "cell_type": "code",
      "execution_count": null,
      "metadata": {
        "colab": {
          "base_uri": "https://localhost:8080/"
        },
        "id": "-iYZiIAPDiBz",
        "outputId": "c350a289-2957-4c66-cf37-6027d8edd137"
      },
      "outputs": [
        {
          "name": "stdout",
          "output_type": "stream",
          "text": [
            "/usr/local/lib/python3.8/dist-packages/torch/cuda/__init__.py:497: UserWarning: Can't initialize NVML\n",
            "  warnings.warn(\"Can't initialize NVML\")\n",
            "2022-12-30 18:44:41.468309: E tensorflow/stream_executor/cuda/cuda_driver.cc:271] failed call to cuInit: CUDA_ERROR_NO_DEVICE: no CUDA-capable device is detected\n",
            "\u001b[38;5;4mℹ Saving to output directory:\n",
            "drive/MyDrive/MedicineDetection/output\u001b[0m\n",
            "\u001b[38;5;4mℹ Using CPU\u001b[0m\n",
            "\u001b[1m\n",
            "=========================== Initializing pipeline ===========================\u001b[0m\n",
            "[2022-12-30 18:44:42,483] [INFO] Set up nlp object from config\n",
            "INFO:spacy:Set up nlp object from config\n",
            "[2022-12-30 18:44:42,496] [INFO] Pipeline: ['tok2vec', 'ner']\n",
            "INFO:spacy:Pipeline: ['tok2vec', 'ner']\n",
            "[2022-12-30 18:44:42,500] [INFO] Created vocabulary\n",
            "INFO:spacy:Created vocabulary\n",
            "[2022-12-30 18:44:47,240] [INFO] Added vectors: en_core_web_lg\n",
            "INFO:spacy:Added vectors: en_core_web_lg\n",
            "tcmalloc: large alloc 1233977344 bytes == 0x39024000 @  0x7f82e32bf2a4 0x7f82d7bffe09 0x7f82d7bfecdf 0x7f82d7bfb675 0x7f82d7bfbe2e 0x4f750a 0x4997a2 0x55cd91 0x5d8941 0x49abe4 0x7f81f620dd78 0x7f81f621070e 0x7f81f62185a7 0x7f81f621be85 0x5d8d8c 0x55dc1e 0x5d8868 0x4990ca 0x7f81f620dd78 0x7f81f621070e 0x7f81f6217e4b 0x5d80be 0x5d8d8c 0x55ea20 0x55d078 0x5d8941 0x49abe4 0x4fe253 0x49abe4 0x55d078 0x5d8941\n",
            "tcmalloc: large alloc 1248116736 bytes == 0xa755c000 @  0x7f82e32bf2a4 0x7f82d7bfd3a2 0x7f82d7bfecdf 0x7f82d7bfb675 0x7f82d7bfbe2e 0x4f750a 0x4997a2 0x55cd91 0x5d8941 0x49abe4 0x5d8868 0x4997c7 0x7f81f620dd78 0x7f81f621070e 0x7f81f6217e4b 0x5d80be 0x5d8d8c 0x55ea20 0x55d078 0x5d8941 0x49abe4 0x4fe253 0x49abe4 0x55d078 0x5d8941 0x49abe4 0x55d078 0x5d8941 0x49abe4 0x55cd91 0x5d8941\n",
            "[2022-12-30 18:44:49,948] [INFO] Finished initializing nlp object\n",
            "INFO:spacy:Finished initializing nlp object\n",
            "[2022-12-30 18:44:50,473] [INFO] Initialized pipeline components: ['tok2vec', 'ner']\n",
            "INFO:spacy:Initialized pipeline components: ['tok2vec', 'ner']\n",
            "\u001b[38;5;2m✔ Initialized pipeline\u001b[0m\n",
            "\u001b[1m\n",
            "============================= Training pipeline =============================\u001b[0m\n",
            "\u001b[38;5;4mℹ Pipeline: ['tok2vec', 'ner']\u001b[0m\n",
            "\u001b[38;5;4mℹ Initial learn rate: 0.001\u001b[0m\n",
            "E    #       LOSS TOK2VEC  LOSS NER  ENTS_F  ENTS_P  ENTS_R  SCORE \n",
            "---  ------  ------------  --------  ------  ------  ------  ------\n",
            "  0       0          0.00     42.60    0.00    0.00    0.00    0.00\n",
            " 14     200         13.86    713.40   99.52   99.05  100.00    1.00\n",
            " 33     400          7.49     57.38   99.52  100.00   99.04    1.00\n",
            " 56     600          3.53     46.24   99.52  100.00   99.04    1.00\n",
            " 84     800          5.38     62.25   99.52  100.00   99.04    1.00\n",
            "119    1000          2.30     58.34  100.00  100.00  100.00    1.00\n",
            "161    1200          5.29     12.63  100.00  100.00  100.00    1.00\n",
            "211    1400          0.00      0.00  100.00  100.00  100.00    1.00\n",
            "276    1600          0.00      0.00  100.00  100.00  100.00    1.00\n",
            "346    1800          0.00      0.00  100.00  100.00  100.00    1.00\n",
            "446    2000          0.00      0.00  100.00  100.00  100.00    1.00\n",
            "546    2200          0.00      0.00  100.00  100.00  100.00    1.00\n",
            "646    2400          0.00      0.00  100.00  100.00  100.00    1.00\n",
            "746    2600          0.00      0.00  100.00  100.00  100.00    1.00\n",
            "\u001b[38;5;2m✔ Saved pipeline to output directory\u001b[0m\n",
            "drive/MyDrive/MedicineDetection/output/model-last\n"
          ]
        }
      ],
      "source": [
        "!python -m spacy train ./drive/MyDrive/MedicineDetection/config/config.cfg --output ./drive/MyDrive/MedicineDetection/output --paths.train ./drive/MyDrive/MedicineDetection/train.spacy --paths.dev ./drive/MyDrive/MedicineDetection/train.spacy"
      ]
    },
    {
      "cell_type": "code",
      "execution_count": null,
      "metadata": {
        "id": "-1IQYeBNEfZA"
      },
      "outputs": [],
      "source": [
        "nlp1 = spacy.load(r\"./drive/MyDrive/MedicineDetection/output/model-best\")"
      ]
    },
    {
      "cell_type": "code",
      "execution_count": null,
      "metadata": {
        "id": "rBamAD-wIS4r"
      },
      "outputs": [],
      "source": [
        "colors = {'quantity': \"#85C1E9\", 'medicine':'#AFE1AF'}\n",
        "options = {\"ents\": ['quantity','medicine'], \"colors\": colors}"
      ]
    },
    {
      "cell_type": "code",
      "execution_count": null,
      "metadata": {
        "colab": {
          "base_uri": "https://localhost:8080/",
          "height": 52
        },
        "id": "8lBDg3GpIZlt",
        "outputId": "5a03a956-08dc-4070-ed25-697f93b51624"
      },
      "outputs": [
        {
          "data": {
            "text/html": [
              "<span class=\"tex2jax_ignore\"><div class=\"entities\" style=\"line-height: 2.5; direction: ltr\">I appreciate that the \n",
              "<mark class=\"entity\" style=\"background: #AFE1AF; padding: 0.45em 0.6em; margin: 0 0.25em; line-height: 1; border-radius: 0.35em;\">\n",
              "    A C Ford Kid\n",
              "    <span style=\"font-size: 0.8em; font-weight: bold; line-height: 1; border-radius: 0.35em; vertical-align: middle; margin-left: 0.5rem\">medicine</span>\n",
              "</mark>\n",
              " tablets come in a convenient \n",
              "<mark class=\"entity\" style=\"background: #85C1E9; padding: 0.45em 0.6em; margin: 0 0.25em; line-height: 1; border-radius: 0.35em;\">\n",
              "    200 mg\n",
              "    <span style=\"font-size: 0.8em; font-weight: bold; line-height: 1; border-radius: 0.35em; vertical-align: middle; margin-left: 0.5rem\">quantity</span>\n",
              "</mark>\n",
              " dosage that is easy for my child to swallow.</div></span>"
            ],
            "text/plain": [
              "<IPython.core.display.HTML object>"
            ]
          },
          "metadata": {},
          "output_type": "display_data"
        }
      ],
      "source": [
        "text = \"I appreciate that the A C Ford Kid tablets come in a convenient 200 mg dosage that is easy for my child to swallow.\"\n",
        "doc = nlp1(text)\n",
        "spacy.displacy.render(doc, style=\"ent\", jupyter=True, options=options)"
      ]
    },
    {
      "cell_type": "code",
      "execution_count": null,
      "metadata": {
        "colab": {
          "base_uri": "https://localhost:8080/",
          "height": 52
        },
        "id": "LUfUeGeZIcTq",
        "outputId": "be2aae9a-f006-478d-c43a-211c29079eed"
      },
      "outputs": [
        {
          "data": {
            "text/html": [
              "<span class=\"tex2jax_ignore\"><div class=\"entities\" style=\"line-height: 2.5; direction: ltr\">\n",
              "<mark class=\"entity\" style=\"background: #85C1E9; padding: 0.45em 0.6em; margin: 0 0.25em; line-height: 1; border-radius: 0.35em;\">\n",
              "    5 strips\n",
              "    <span style=\"font-size: 0.8em; font-weight: bold; line-height: 1; border-radius: 0.35em; vertical-align: middle; margin-left: 0.5rem\">quantity</span>\n",
              "</mark>\n",
              " of \n",
              "<mark class=\"entity\" style=\"background: #AFE1AF; padding: 0.45em 0.6em; margin: 0 0.25em; line-height: 1; border-radius: 0.35em;\">\n",
              "    Crocin\n",
              "    <span style=\"font-size: 0.8em; font-weight: bold; line-height: 1; border-radius: 0.35em; vertical-align: middle; margin-left: 0.5rem\">medicine</span>\n",
              "</mark>\n",
              " tablet, 10 strips of \n",
              "<mark class=\"entity\" style=\"background: #AFE1AF; padding: 0.45em 0.6em; margin: 0 0.25em; line-height: 1; border-radius: 0.35em;\">\n",
              "    Dolo\n",
              "    <span style=\"font-size: 0.8em; font-weight: bold; line-height: 1; border-radius: 0.35em; vertical-align: middle; margin-left: 0.5rem\">medicine</span>\n",
              "</mark>\n",
              " \n",
              "<mark class=\"entity\" style=\"background: #85C1E9; padding: 0.45em 0.6em; margin: 0 0.25em; line-height: 1; border-radius: 0.35em;\">\n",
              "    650mg\n",
              "    <span style=\"font-size: 0.8em; font-weight: bold; line-height: 1; border-radius: 0.35em; vertical-align: middle; margin-left: 0.5rem\">quantity</span>\n",
              "</mark>\n",
              " tablets and \n",
              "<mark class=\"entity\" style=\"background: #85C1E9; padding: 0.45em 0.6em; margin: 0 0.25em; line-height: 1; border-radius: 0.35em;\">\n",
              "    5 bottles\n",
              "    <span style=\"font-size: 0.8em; font-weight: bold; line-height: 1; border-radius: 0.35em; vertical-align: middle; margin-left: 0.5rem\">quantity</span>\n",
              "</mark>\n",
              " of \n",
              "<mark class=\"entity\" style=\"background: #AFE1AF; padding: 0.45em 0.6em; margin: 0 0.25em; line-height: 1; border-radius: 0.35em;\">\n",
              "    glucose solution\n",
              "    <span style=\"font-size: 0.8em; font-weight: bold; line-height: 1; border-radius: 0.35em; vertical-align: middle; margin-left: 0.5rem\">medicine</span>\n",
              "</mark>\n",
              "</div></span>"
            ],
            "text/plain": [
              "<IPython.core.display.HTML object>"
            ]
          },
          "metadata": {},
          "output_type": "display_data"
        }
      ],
      "source": [
        "text = \"5 strips of Crocin tablet, 10 strips of Dolo 650mg tablets and 5 bottles of glucose solution\"\n",
        "doc = nlp1(text)\n",
        "spacy.displacy.render(doc, style=\"ent\", jupyter=True, options=options)"
      ]
    },
    {
      "cell_type": "code",
      "execution_count": null,
      "metadata": {
        "colab": {
          "base_uri": "https://localhost:8080/",
          "height": 52
        },
        "id": "NLgtjRwslU6j",
        "outputId": "bcd5be3f-6301-4dfa-f12e-2e9863c2d0ba"
      },
      "outputs": [
        {
          "data": {
            "text/html": [
              "<span class=\"tex2jax_ignore\"><div class=\"entities\" style=\"line-height: 2.5; direction: ltr\">\n",
              "<mark class=\"entity\" style=\"background: #85C1E9; padding: 0.45em 0.6em; margin: 0 0.25em; line-height: 1; border-radius: 0.35em;\">\n",
              "    50 boxes\n",
              "    <span style=\"font-size: 0.8em; font-weight: bold; line-height: 1; border-radius: 0.35em; vertical-align: middle; margin-left: 0.5rem\">quantity</span>\n",
              "</mark>\n",
              " \n",
              "<mark class=\"entity\" style=\"background: #AFE1AF; padding: 0.45em 0.6em; margin: 0 0.25em; line-height: 1; border-radius: 0.35em;\">\n",
              "    Heart Injection\n",
              "    <span style=\"font-size: 0.8em; font-weight: bold; line-height: 1; border-radius: 0.35em; vertical-align: middle; margin-left: 0.5rem\">medicine</span>\n",
              "</mark>\n",
              "</div></span>"
            ],
            "text/plain": [
              "<IPython.core.display.HTML object>"
            ]
          },
          "metadata": {},
          "output_type": "display_data"
        }
      ],
      "source": [
        "text = \"50 boxes Heart Injection\"\n",
        "doc = nlp1(text)\n",
        "spacy.displacy.render(doc, style=\"ent\", jupyter=True, options=options)"
      ]
    },
    {
      "cell_type": "code",
      "execution_count": null,
      "metadata": {
        "id": "w5T6BQpMmEi9"
      },
      "outputs": [],
      "source": [
        "examples = [\n",
        "    (\"Gallab 400mg tablets is an antibiotic used to treat a variety of bacterial infections.\",{\"entities\":[(7,12,\"quantity\"),(0,6,\"medicine\")]}),\n",
        "(\"It is important to take Gallab 400mg tablets exactly as prescribed by a healthcare provider and to finish the entire course of treatment to ensure the best possible outcome.\",{\"entities\":[(31,36,\"quantity\"),(24,30,\"medicine\")]}),\n",
        "(\"Clonapik 2mg tablets are a prescription medication used to treat anxiety disorders, panic disorders, and certain types of seizure disorders.\",{\"entities\":[(8,13,\"quantity\"),(0,8,\"medicine\")]}),\n",
        "(\" Clonapik tablets contain 2mg of the active ingredient clonazepam, which belongs to a class of drugs called benzodiazepines.\",{\"entities\":[(26,30,\"quantity\"),(1,10,\"medicine\")]}),\n",
        "(\"Floxi 200mg tablets are a prescription medication used to treat infections caused by bacteria.\",{\"entities\":[(6,11,\"quantity\"),(0,5,\"medicine\")]}),\n",
        "(\"Floxi tablets contain 200mg of the active ingredient ciprofloxacin, which belongs to a class of drugs called quinolone antibiotics.\",{\"entities\":[(22,27,\"quantity\"),(0,13,\"medicine\")]}),\n",
        "(\"Flucold Clear Syrup is a over-the-counter (OTC) medicinal syrup used to treat symptoms of the common cold and flu.\",{\"entities\":[(0,19,\"medicine\")]}),\n",
        "(\"Flucold Clear Syrup contains a combination of active ingredients including paracetamol, phenylephrine, and chlorpheniramine, which work together to reduce fever, relieve body aches, and decongest the nasal passages.\",{\"entities\":[(0,20,\"medicine\")]}),\n",
        "(\"1% Itom Dusting Powder is a topical medication used to treat fungal infections of the skin, such as athlete's foot and ringworm\",{\"entities\":[(0,2,\"quantity\"),(3,22,\"medicine\")]}),\n",
        "(\"Itom Dusting Powder contains 1% of the active ingredient miconazole, which is an antifungal agent that works by stopping the growth of fungi.\",{\"entities\":[(29,33,\"quantity\"),(1,21,\"medicine\")]}),\n",
        "(\"Itrakrypt 100 Capsules are a prescription medication used to treat infections caused by bacteria.\",{\"entities\":[(10,14,\"quantity\"),(0,10,\"medicine\")]}),\n",
        "(\"Itrakrypt capsule contains 100mg of the active ingredient amikacin, which is an aminoglycoside antibiotic that works by inhibiting the growth of bacteria. \",{\"entities\":[(27,32,\"quantity\"),(0,18,\"medicine\")]}),\n",
        "]"
      ]
    },
    {
      "cell_type": "code",
      "execution_count": null,
      "metadata": {
        "colab": {
          "base_uri": "https://localhost:8080/"
        },
        "id": "rpxvm4y4slJw",
        "outputId": "2b1b5e53-956f-4c3f-ef92-7cd8e86c9d16"
      },
      "outputs": [
        {
          "name": "stdout",
          "output_type": "stream",
          "text": [
            "token_acc  1.0       \n",
            "token_p    1.0       \n",
            "token_r    1.0       \n",
            "token_f    1.0       \n",
            "sents_p    None      \n",
            "sents_r    None      \n",
            "sents_f    None      \n",
            "tag_acc    None      \n",
            "pos_acc    None      \n",
            "morph_acc  None      \n",
            "morph_micro_p None      \n",
            "morph_micro_r None      \n",
            "morph_micro_f None      \n",
            "morph_per_feat None      \n",
            "dep_uas    None      \n",
            "dep_las    None      \n",
            "dep_las_per_type None      \n",
            "ents_p     None      \n",
            "ents_r     None      \n",
            "ents_f     None      \n",
            "ents_per_type None      \n",
            "cats_score 0.0       \n",
            "cats_score_desc macro F   \n",
            "cats_micro_p 0.0       \n",
            "cats_micro_r 0.0       \n",
            "cats_micro_f 0.0       \n",
            "cats_macro_p 0.0       \n",
            "cats_macro_r 0.0       \n",
            "cats_macro_f 0.0       \n",
            "cats_macro_auc 0.0       \n",
            "cats_f_per_type {}        \n",
            "cats_auc_per_type {}        \n"
          ]
        }
      ],
      "source": [
        "def evaluate(ner_model, examples):\n",
        "    scorer = Scorer()\n",
        "    example = []\n",
        "    for input_, annot in examples:\n",
        "        pred = ner_model(input_)\n",
        "        temp = Example.from_dict(pred, dict.fromkeys(annot))\n",
        "        example.append(temp)\n",
        "    scores = scorer.score(example)\n",
        "    return scores\n",
        "\n",
        "results = evaluate(nlp1, examples)\n",
        "for key, value in results.items():\n",
        "    print(\"{:<10} {:<10}\".format(str(key), str(value)))"
      ]
    },
    {
      "cell_type": "code",
      "execution_count": null,
      "metadata": {
        "id": "Av1-8nGTuI0H"
      },
      "outputs": [],
      "source": []
    }
  ],
  "metadata": {
    "colab": {
      "provenance": []
    },
    "kernelspec": {
      "display_name": "Python 3",
      "name": "python3"
    },
    "language_info": {
      "name": "python"
    }
  },
  "nbformat": 4,
  "nbformat_minor": 0
}
